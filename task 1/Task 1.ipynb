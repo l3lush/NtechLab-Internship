{
 "cells": [
  {
   "cell_type": "code",
   "execution_count": 20,
   "metadata": {},
   "outputs": [
    {
     "name": "stdout",
     "output_type": "stream",
     "text": [
      "[-2,1,-3,4,-1,2,1,-5,4]\n"
     ]
    },
    {
     "data": {
      "text/plain": [
       "[4, -1, 2, 1]"
      ]
     },
     "execution_count": 20,
     "metadata": {},
     "output_type": "execute_result"
    }
   ],
   "source": [
    "def findMaxSubArray(array):\n",
    "    \"\"\"Функция для поиска подмассива с максимальной суммой\"\"\"\n",
    "    max_sum = 0\n",
    "    start = 0\n",
    "    end = 0\n",
    "    current_sum = 0\n",
    "    for current_end, x in enumerate(array):\n",
    "        if current_sum <= 0:\n",
    "            current_start = current_end\n",
    "            current_sum = x\n",
    "        else:\n",
    "            current_sum += x\n",
    "\n",
    "        if current_sum > max_sum:\n",
    "            max_sum = current_sum\n",
    "            start = current_start\n",
    "            end = current_end\n",
    "\n",
    "    return array[start:end+1]\n",
    "\n",
    "\n",
    "a = input()\n",
    "if a[0] == '[' and a[-1] == ']':\n",
    "    a = a[1:-1]\n",
    "if ', ' in a:\n",
    "    a = a.split(', ')\n",
    "if ' ' in a:\n",
    "    a = a.split()\n",
    "if ',' in a:\n",
    "    a = a.split(',')\n",
    "a = list(map(int, a))\n",
    "findMaxSubArray(a)"
   ]
  }
 ],
 "metadata": {
  "kernelspec": {
   "display_name": "Python 3",
   "language": "python",
   "name": "python3"
  },
  "language_info": {
   "codemirror_mode": {
    "name": "ipython",
    "version": 3
   },
   "file_extension": ".py",
   "mimetype": "text/x-python",
   "name": "python",
   "nbconvert_exporter": "python",
   "pygments_lexer": "ipython3",
   "version": "3.7.7"
  }
 },
 "nbformat": 4,
 "nbformat_minor": 4
}
